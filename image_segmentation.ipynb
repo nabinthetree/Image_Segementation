{
 "cells": [
  {
   "cell_type": "markdown",
   "id": "9b8cbdf0",
   "metadata": {},
   "source": [
    "### Image Segmentation Project 1\n",
    "###### The following program optimizes the ambrios functional using gradient descent method to use a gradieent descent method, the gradient of the functional needs"
   ]
  },
  {
   "cell_type": "code",
   "execution_count": 1,
   "id": "f31fa885",
   "metadata": {},
   "outputs": [
    {
     "name": "stdout",
     "output_type": "stream",
     "text": [
      " 21.825805 seconds (8.71 M allocations: 523.482 MiB, 2.86% gc time, 4.18% compilation time: 59% of which was recompilation)\n"
     ]
    }
   ],
   "source": [
    "@time begin\n",
    "    \n",
    "using Images, FileIO\n",
    "using TestImages\n",
    "using LinearAlgebra\n",
    "using ImageView\n",
    "    \n",
    "end"
   ]
  },
  {
   "cell_type": "code",
   "execution_count": 14,
   "id": "65bd70e8",
   "metadata": {},
   "outputs": [],
   "source": [
    "# set the image to segment.\n",
    "uO = Gray.(testimage(\"lighthouse\"));\n",
    "uO = Gray.(load(\"faces1.jpg\"))\n",
    "m = size(uO)[1];\n",
    "n = size(uO)[2];\n",
    "u = rand(Gray,m,n);\n",
    "v = rand(Gray,m,n);\n",
    "imshow(uO);"
   ]
  },
  {
   "cell_type": "code",
   "execution_count": 10,
   "id": "69e049d1",
   "metadata": {},
   "outputs": [],
   "source": [
    "# the following is an implementation of the potential function\n",
    "# along with the function z wtih z being from 0 and 1\n",
    "gamma = 0.5;\n",
    "epsilon = 0.5;\n",
    "beta = 0.5;\n",
    "alph = 0.5;\n",
    "\n",
    "function setUp_grad_z(m,n)\n",
    "    function grad_z(x)\n",
    "        return (2 / (2*m+n))^2 + (1 / (2*m+n)^2)\n",
    "    end;\n",
    "    return grad_z\n",
    "end;\n",
    "\n",
    "function setUp_z(m,n)\n",
    "    function z(x)\n",
    "        return (2*x[1] + x[2])/(2*m+n);\n",
    "    end;\n",
    "    return z;\n",
    "end;\n",
    "\n",
    "function phi(z)\n",
    "    \n",
    "    return z^4 - 2*z^3 + z^2\n",
    "end;\n",
    "grad_z = setUp_grad_z(m,n);\n",
    "z = setUp_z(m,n);\n",
    "phi_squared = x -> phi(z(x));"
   ]
  },
  {
   "cell_type": "code",
   "execution_count": 11,
   "id": "99e8262b",
   "metadata": {},
   "outputs": [],
   "source": [
    "# The following function is used for the\n",
    "# gamma term which calculate the gradient\n",
    "# of a certain pixel using finite differences.\n",
    "\n",
    "function finite_diff_grad(M,x)\n",
    "    \n",
    "    partial_x = (M[x[1]+1,x[2]] - M[x[1]-1,x[2]]) / 2;\n",
    "    partial_y = (M[x[1],x[2]+1] - M[x[1],x[2]-1]) / 2;\n",
    "    \n",
    "    return [partial_x, partial_y];\n",
    "    \n",
    "end;"
   ]
  },
  {
   "cell_type": "code",
   "execution_count": 12,
   "id": "bdb87b2a",
   "metadata": {},
   "outputs": [],
   "source": [
    "epsilon = 0.2;\n",
    "gamma = 0.2;\n",
    "alph = 0.2;\n",
    "step = 0.5;\n",
    "function gaussian_discrete(m,n,epsilon)\n",
    "    grid = zeros(m,n)\n",
    "    for i = 1:m\n",
    "        for j = 1:n\n",
    "            exponent = (i^2)/2+(j^2)/2;\n",
    "            grid[i,j] = exp(-exponent);\n",
    "        end;\n",
    "    end;\n",
    "    return grid;\n",
    "end;\n",
    "\n",
    "function g_epsilon(m,n,epsilon)\n",
    "    phi = gaussian_discrete(m,n,epsilon);\n",
    "    return phi;\n",
    "end;\n",
    "\n",
    "function partial_F_sim_u(u,uO,k)\n",
    "    return 2*(u[k[1],k[2]]-uO[k[1],k[2]]);\n",
    "end;\n",
    "\n",
    "function partial_F_sim_v()\n",
    "    return 0;\n",
    "end;\n",
    "\n",
    "function partial_F_Reg_At_v(u,v,k)\n",
    "    \n",
    "    partial = 2*v[k[1],k[2]]*norm(finite_diff_grad(u,k))^2;\n",
    "    return partial;\n",
    "end;\n",
    "\n",
    "function partial_F_Reg_At_u(u,v,k)\n",
    "    partial= 2*norm(finite_diff_grad(u,k))*v[k[1],k[2]]^2;\n",
    "    return partial;\n",
    "end;\n",
    "\n",
    "function partial_F_At_u()\n",
    "    return 0;\n",
    "end;\n",
    "\n",
    "function partial_F_At_v(v,k,epsilon)\n",
    "    \n",
    "    partial = 2*epsilon*norm(finite_diff_grad(v,k));\n",
    "    partial += (1/(2*epsilon))*(v[k[1],k[2]]-1);\n",
    "    return partial;\n",
    "end;\n",
    "\n",
    "function gradient_F_MSAT(u,v,alph,uO,alpha,gamma,k)\n",
    "\n",
    "    partial_u = partial_F_sim_u(u,uO,k);\n",
    "    partial_u += alph*partial_F_Reg_At_u(u,v,k);\n",
    "    partial_u += gamma*partial_F_At_u();\n",
    "    \n",
    "    partial_v = partial_F_sim_v();\n",
    "    partial_v += alph*partial_F_Reg_At_v(u,v,k);\n",
    "    partial_v += gamma*partial_F_At_v(v,k,epsilon);\n",
    "    \n",
    "    return [partial_u partial_v];\n",
    "end;"
   ]
  },
  {
   "cell_type": "code",
   "execution_count": 13,
   "id": "dffa5c41",
   "metadata": {},
   "outputs": [
    {
     "name": "stdout",
     "output_type": "stream",
     "text": [
      "104.004986 seconds (1.46 G allocations: 44.462 GiB, 8.50% gc time, 1.01% compilation time)\n"
     ]
    }
   ],
   "source": [
    "@time begin\n",
    "    \n",
    "    max_iterations = 100;\n",
    "    curIter = 0;\n",
    "    while(curIter < max_iterations)\n",
    "        for i = 3:m-2\n",
    "            for j = 3:n-2\n",
    "                k = [i,j];\n",
    "                grad = gradient_F_MSAT(u,v,alph,uO,alph,gamma,k);\n",
    "                u[i,j] = u[i,j] - step*grad[1];\n",
    "                v[i,j] = v[i,j] - step*grad[2];\n",
    "            end;\n",
    "        end;\n",
    "        curIter += 1\n",
    "    end;\n",
    "\n",
    "end"
   ]
  },
  {
   "cell_type": "code",
   "execution_count": 15,
   "id": "e204eba6",
   "metadata": {},
   "outputs": [
    {
     "name": "stdout",
     "output_type": "stream",
     "text": [
      " 70.129715 seconds (944.20 M allocations: 41.526 GiB, 20.97% gc time, 1.72% compilation time)\n"
     ]
    }
   ],
   "source": [
    "# @time begin\n",
    "    \n",
    "#     max_iterations = 100\n",
    "#     curIter = 0\n",
    "\n",
    "#     while curIter < max_iterations\n",
    "#         # Define the indices for which the gradient needs to be computed\n",
    "#         indices = CartesianIndices((3:m-2, 3:n-2))\n",
    "\n",
    "#         # Compute the gradients for all indices at once\n",
    "#         grads = gradient_F_MSAT.(Ref(u), Ref(v), Ref(alph), Ref(uO), Ref(alph), Ref(gamma), indices)\n",
    "\n",
    "#         # Reshape gradients and indices for broadcasting\n",
    "#         grads_reshaped = hcat([grad[1] for grad in grads]...), hcat([grad[2] for grad in grads]...)\n",
    "#         indices_reshaped = hcat([i for i in indices]...)\n",
    "\n",
    "#         # Update u and v using array broadcasting\n",
    "#         u[indices_reshaped] .-= step .* grads_reshaped[1]\n",
    "#         v[indices_reshaped] .-= step .* grads_reshaped[2]\n",
    "\n",
    "#         curIter += 1\n",
    "#     end\n",
    "\n",
    "# end"
   ]
  },
  {
   "cell_type": "code",
   "execution_count": null,
   "id": "ed861405",
   "metadata": {},
   "outputs": [],
   "source": []
  },
  {
   "cell_type": "code",
   "execution_count": null,
   "id": "f393a997",
   "metadata": {},
   "outputs": [],
   "source": []
  },
  {
   "cell_type": "code",
   "execution_count": null,
   "id": "7f72eedc",
   "metadata": {},
   "outputs": [],
   "source": []
  },
  {
   "cell_type": "code",
   "execution_count": null,
   "id": "9c27d754",
   "metadata": {},
   "outputs": [],
   "source": []
  },
  {
   "cell_type": "code",
   "execution_count": null,
   "id": "7c4efcd2",
   "metadata": {},
   "outputs": [],
   "source": [
    "#change black to white and white black\n",
    "# in the image, v is the contours\n",
    "using Statistics\n",
    "v .= (v .< avg) .|> Int\n",
    "imshow(v);\n"
   ]
  },
  {
   "cell_type": "code",
   "execution_count": null,
   "id": "6f0ec371",
   "metadata": {},
   "outputs": [],
   "source": []
  },
  {
   "cell_type": "code",
   "execution_count": null,
   "id": "3fb117e3",
   "metadata": {},
   "outputs": [],
   "source": []
  },
  {
   "cell_type": "code",
   "execution_count": null,
   "id": "ea374ec1",
   "metadata": {},
   "outputs": [],
   "source": []
  }
 ],
 "metadata": {
  "kernelspec": {
   "display_name": "Julia 1.9.3",
   "language": "julia",
   "name": "julia-1.9"
  },
  "language_info": {
   "file_extension": ".jl",
   "mimetype": "application/julia",
   "name": "julia",
   "version": "1.9.3"
  }
 },
 "nbformat": 4,
 "nbformat_minor": 5
}
