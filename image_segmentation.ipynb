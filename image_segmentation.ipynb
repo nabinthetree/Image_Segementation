{
 "cells": [
  {
   "cell_type": "markdown",
   "id": "9b8cbdf0",
   "metadata": {},
   "source": [
    "### Image Segmentation Project 1\n",
    "###### The following program optimizes the ambrios functional using gradient descent method to use a gradieent descent method, the gradient of the functional needs"
   ]
  },
  {
   "cell_type": "code",
   "execution_count": null,
   "id": "f31fa885",
   "metadata": {},
   "outputs": [],
   "source": [
    "@time begin\n",
    "    \n",
    "using Images, FileIO\n",
    "using TestImages\n",
    "using LinearAlgebra\n",
    "using ImageView\n",
    "using Base.MathConstants\n",
    "    \n",
    "end"
   ]
  },
  {
   "cell_type": "code",
   "execution_count": null,
   "id": "65bd70e8",
   "metadata": {},
   "outputs": [],
   "source": [
    "# set the image to segment.\n",
    "uO = Gray.(testimage(\"lighthouse\"));\n",
    "uO = Gray.(load(\"faces1.jpg\"))\n",
    "m = size(uO)[1];\n",
    "n = size(uO)[2];\n",
    "u = rand(Gray,m,n);\n",
    "v = rand(Gray,m,n);\n",
    "#imshow(uO);"
   ]
  },
  {
   "cell_type": "code",
   "execution_count": null,
   "id": "99e8262b",
   "metadata": {},
   "outputs": [],
   "source": [
    "# The following function is used for the\n",
    "# gamma term which calculate the gradient\n",
    "# of a certain pixel using finite differences.\n",
    "\n",
    "function finite_diff_grad(M,x)\n",
    "    \n",
    "    partial_x = (M[x[1]+1,x[2]] - M[x[1]-1,x[2]]) / 2;\n",
    "    partial_y = (M[x[1],x[2]+1] - M[x[1],x[2]-1]) / 2;\n",
    "    \n",
    "    return [partial_x, partial_y];\n",
    "    \n",
    "end;"
   ]
  },
  {
   "cell_type": "code",
   "execution_count": null,
   "id": "bdb87b2a",
   "metadata": {},
   "outputs": [],
   "source": [
    "epsilon = 0.2;\n",
    "gamma = 0.2;\n",
    "alph = 0.2;\n",
    "step = 0.5;\n",
    "\n",
    "function gaussian_discrete(m,n,epsilon)\n",
    "    grid = zeros(m,n)\n",
    "    for i = 1:m\n",
    "        for j = 1:n\n",
    "            exponent = (i^2)/2+(j^2)/2;\n",
    "            grid[i,j] = exp(-exponent);\n",
    "        end;\n",
    "    end;\n",
    "    return grid;\n",
    "end;\n",
    "\n",
    "function g_epsilon(m,n,epsilon)\n",
    "    phi = gaussian_discrete(m,n,epsilon);\n",
    "    return phi;\n",
    "end;\n",
    "\n",
    "function partial_F_sim_u(u,uO,k)\n",
    "    return 2*(u[k[1],k[2]]-uO[k[1],k[2]]);\n",
    "end;\n",
    "\n",
    "function partial_F_sim_v()\n",
    "    return 0;\n",
    "end;\n",
    "\n",
    "function partial_F_Reg_At_v(u,v,k)\n",
    "    \n",
    "    partial = 2*v[k[1],k[2]]*norm(finite_diff_grad(u,k))^2;\n",
    "    return partial;\n",
    "end;\n",
    "\n",
    "function partial_F_Reg_At_u(u,v,k)\n",
    "    partial= 2*norm(finite_diff_grad(u,k))*v[k[1],k[2]]^2;\n",
    "    return partial;\n",
    "end;\n",
    "\n",
    "function partial_F_At_u()\n",
    "    return 0;\n",
    "end;\n",
    "\n",
    "function partial_F_At_v(v,k,epsilon)\n",
    "    \n",
    "    partial = 2*epsilon*norm(finite_diff_grad(v,k));\n",
    "    partial += (1/(2*epsilon))*(v[k[1],k[2]]-1);\n",
    "    return partial;\n",
    "end;\n",
    "\n",
    "function gradient_F_MSAT(u,v,alph,uO,gamma,k,epsilon)\n",
    "\n",
    "    partial_u = partial_F_sim_u(u,uO,k);\n",
    "    partial_u += alph*partial_F_Reg_At_u(u,v,k);\n",
    "    partial_u += gamma*partial_F_At_u();\n",
    "    \n",
    "    partial_v = partial_F_sim_v();\n",
    "    partial_v += alph*partial_F_Reg_At_v(u,v,k);\n",
    "    partial_v += gamma*partial_F_At_v(v,k,epsilon);\n",
    "    \n",
    "    return [partial_u partial_v];\n",
    "end;\n",
    "\n",
    "function F_sim(u,uO,k)\n",
    "    \n",
    "     value = (u[k[1],k[2]]-uO[k[1],k[2]])^2\n",
    "    return value;\n",
    "end;\n",
    "\n",
    "function F_Reg_At(u,v,k)\n",
    "    \n",
    "    value = norm(finite_diff_grad(u,k))^2\n",
    "    value *= v[k[1],k[2]]^2;\n",
    "    return value;\n",
    "end;\n",
    "\n",
    "function F_At(u,v,k,epsilon)\n",
    "      \n",
    "    value = epsilon*norm(finite_diff_grad(v,k));\n",
    "    value += (1/(4*epsilon))*(v[k[1],k[2]]-1)^2\n",
    "    return value;\n",
    "end;\n",
    "\n",
    "function F_MSAT(u,uO,v,k,gamma,alph,epsilon)\n",
    "    return F_sim(u,uO,k)+F_Reg_At(u,v,k)+F_At(u,v,k,epsilon);\n",
    "end;\n",
    "\n",
    "#F_MSAT(u,uO,v,[10,17],gamma,alph,epsilon)"
   ]
  },
  {
   "cell_type": "code",
   "execution_count": null,
   "id": "dffa5c41",
   "metadata": {},
   "outputs": [],
   "source": [
    "@time begin\n",
    "    \n",
    "    threshold = 0.001;\n",
    "    cur_error = threshold + 1;\n",
    "    max_iterations = 100;\n",
    "    curIter = 0;\n",
    "    while(curIter < max_iterations && cur_error > threshold)\n",
    "        for i = 3:m-2\n",
    "            for j = 3:n-2\n",
    "                k = [i,j];\n",
    "                grad = gradient_F_MSAT(u,v,alph,uO,gamma,k,epsilon);\n",
    "                u[i,j] = u[i,j] - step*grad[1];\n",
    "                v[i,j] = v[i,j] - step*grad[2];\n",
    "            end;\n",
    "        end;\n",
    "        cur_error = norm(u-uO);\n",
    "        curIter += 1\n",
    "    end;\n",
    "end\n",
    "print(cur_error);"
   ]
  },
  {
   "cell_type": "code",
   "execution_count": null,
   "id": "3643dcf6",
   "metadata": {},
   "outputs": [],
   "source": [
    "# The following blocks of code implements conjugate gradient descent\n",
    "# the blocks of code have been taken from algorithms for optimzation textbook\n",
    "# Fiboancci search, line search, and bracketing has been taken from algorithms for optimziation\n",
    "# chapters 3 and 5.\n",
    "imshow(v)"
   ]
  },
  {
   "cell_type": "code",
   "execution_count": null,
   "id": "e204eba6",
   "metadata": {},
   "outputs": [],
   "source": [
    "# @time begin\n",
    "    \n",
    "#     max_iterations = 100\n",
    "#     curIter = 0\n",
    "\n",
    "#     while curIter < max_iterations\n",
    "#         # Define the indices for which the gradient needs to be computed\n",
    "#         indices = CartesianIndices((3:m-2, 3:n-2))\n",
    "\n",
    "#         # Compute the gradients for all indices at once\n",
    "#         grads = gradient_F_MSAT.(Ref(u), Ref(v), Ref(alph), Ref(uO), Ref(alph), Ref(gamma), indices)\n",
    "\n",
    "#         # Reshape gradients and indices for broadcasting\n",
    "#         grads_reshaped = hcat([grad[1] for grad in grads]...), hcat([grad[2] for grad in grads]...)\n",
    "#         indices_reshaped = hcat([i for i in indices]...)\n",
    "\n",
    "#         # Update u and v using array broadcasting\n",
    "#         u[indices_reshaped] .-= step .* grads_reshaped[1]\n",
    "#         v[indices_reshaped] .-= step .* grads_reshaped[2]\n",
    "\n",
    "#         curIter += 1\n",
    "#     end\n",
    "\n",
    "# end"
   ]
  },
  {
   "cell_type": "code",
   "execution_count": null,
   "id": "7c4efcd2",
   "metadata": {},
   "outputs": [],
   "source": [
    "\n"
   ]
  },
  {
   "cell_type": "code",
   "execution_count": null,
   "id": "dc5be352",
   "metadata": {},
   "outputs": [],
   "source": []
  },
  {
   "cell_type": "code",
   "execution_count": null,
   "id": "024b26f6",
   "metadata": {},
   "outputs": [],
   "source": [
    "\n",
    "\n",
    "\n",
    "function optimalStepSize(u,v,k,d,epsilon,gamma,alph)\n",
    "    num = -2*d[1]*(u[k[1],k[2]]-uO[k[1],k[2]]);\n",
    "    num -= 2*d[2]*alph*(norm(finite_diff_grad(u,k))^2)*v[k[1],k[2]];\n",
    "    num -= d[2]*gamma/(2*epsilon)*(v[k[1],k[2]]-1);\n",
    "    \n",
    "    denom = 2*d[1]^2 + 2*alph*d[2]^2*(norm(finite_diff_grad(u,k))^2)*v[k[1],k[2]]\n",
    "    denom += d[2]^2*gamma /(2*epsilon);\n",
    "    α = num / denom;\n",
    "    uv_ij = zeros(1,2);\n",
    "    uv_ij[1,1] = u[k[1],k[2]] + α*d[1];\n",
    "    uv_ij[1,2] = v[k[1],k[2]] + α*d[2];\n",
    "    uv_ij = Gray.(uv_ij);\n",
    "    #uv_ij = uv_ij + α.*d;\n",
    "    return uv_ij;\n",
    "end;"
   ]
  },
  {
   "cell_type": "code",
   "execution_count": null,
   "id": "6f0ec371",
   "metadata": {},
   "outputs": [],
   "source": [
    "abstract type DescentMethod end\n",
    "\n",
    "mutable struct ConjugateGradientDescent <: DescentMethod\n",
    "    d\n",
    "    g\n",
    "end\n",
    "function init!(M::ConjugateGradientDescent, f, ∇f, k)\n",
    "    M.g = ∇f(k)\n",
    "    M.d = -M.g\n",
    "    return M\n",
    "end\n",
    "function step!(M::ConjugateGradientDescent, u,v,∇f,k,epsilon,gamma,alph)\n",
    "    d, g = M.d, M.g\n",
    "    g′ = ∇f(k)\n",
    "    β = max(0, dot(g′, g′-g)/(g⋅g))\n",
    "    d′ = -g′ +  β*d;\n",
    "    uv_t1 = optimalStepSize(u,v,k, d′,epsilon,gamma,alph);\n",
    "    M.d, M.g = d′, g′\n",
    "    return uv_t1\n",
    "end;"
   ]
  },
  {
   "cell_type": "code",
   "execution_count": null,
   "id": "3fb117e3",
   "metadata": {},
   "outputs": [],
   "source": [
    "function conj_func(u,uO,v,gamma,alph,epsilon,obj)\n",
    "    function f(uv_ij,k)\n",
    "        u[k[1],k[2]] = uv_ij[1];\n",
    "        v[k[1],k[2]] = uv_ij[2];\n",
    "        return obj(u,uO,v,k,gamma,alph,epsilon);\n",
    "    end;\n",
    "    return f;\n",
    "end;\n",
    "\n",
    "function conj_grad_func(u,v,alph,uO,gamma,epsilon,func)\n",
    "    function grad_f(k)\n",
    "        return func(u,v,alph,uO,gamma,k,epsilon);\n",
    "    end;\n",
    "    return grad_f;\n",
    "end;"
   ]
  },
  {
   "cell_type": "code",
   "execution_count": null,
   "id": "ea374ec1",
   "metadata": {},
   "outputs": [],
   "source": [
    "grad = conj_grad_func(u,v,alph,uO,gamma,epsilon,gradient_F_MSAT);\n",
    "conjDesc = ConjugateGradientDescent([0,0],[0,0]);\n",
    "#init!(conjDesc, nothing, grad, [3,3]);"
   ]
  },
  {
   "cell_type": "code",
   "execution_count": null,
   "id": "bf4d3ee1",
   "metadata": {},
   "outputs": [],
   "source": [
    "@time begin\n",
    "    conjDesc = ConjugateGradientDescent(nothing,nothing);\n",
    "    init!(conjDesc, nothing, grad, [3,3]);\n",
    "    threshold = 0.001;\n",
    "    cur_error = threshold + 1;\n",
    "    max_iterations = 100;\n",
    "    curIter = 0;\n",
    "    while(curIter < max_iterations && cur_error > threshold)\n",
    "        for i = 3:m-2\n",
    "            for j = 3:n-2\n",
    "                k = [i,j];\n",
    "                updatedValue = step!(conjDesc,u,v,grad,k,epsilon,gamma,alph);\n",
    "                u[i,j] = updatedValue[1];\n",
    "                v[i,j] = updatedValue[2];\n",
    "            end;\n",
    "        end;\n",
    "        cur_error = norm(u-uO);\n",
    "        curIter += 1\n",
    "        print(curIter,\"\\n\");\n",
    "    end;\n",
    "end"
   ]
  },
  {
   "cell_type": "code",
   "execution_count": null,
   "id": "51470a04",
   "metadata": {},
   "outputs": [],
   "source": [
    "imshow(u);"
   ]
  },
  {
   "cell_type": "code",
   "execution_count": null,
   "id": "258d3986",
   "metadata": {},
   "outputs": [],
   "source": [
    "imshow(v);"
   ]
  },
  {
   "cell_type": "code",
   "execution_count": null,
   "id": "88206d00",
   "metadata": {},
   "outputs": [],
   "source": [
    "imshow(u)"
   ]
  },
  {
   "cell_type": "code",
   "execution_count": null,
   "id": "f1b5398e",
   "metadata": {},
   "outputs": [],
   "source": [
    "#change black to white and white black\n",
    "# in the image, v is the contours\n",
    "using Statistics\n",
    "avg = mean(v)\n",
    "v .= (v .< avg) .|> Int\n",
    "imshow(v);"
   ]
  },
  {
   "cell_type": "code",
   "execution_count": null,
   "id": "66b3e5e6",
   "metadata": {},
   "outputs": [],
   "source": [
    "#The following code has been taken from Morgan Romanelli homework 2\n",
    "# in the cs268 optimization class with their permission"
   ]
  },
  {
   "cell_type": "code",
   "execution_count": null,
   "id": "c33dc590",
   "metadata": {},
   "outputs": [],
   "source": [
    "mutable struct Adam <: DescentMethod\n",
    "    α # learning rate\n",
    "    γv # decay\n",
    "    γs # decay\n",
    "    ϵ # small value\n",
    "    k # step counter\n",
    "    v # 1st moment estimate\n",
    "    s # 2nd moment estimate\n",
    "end\n",
    "\n",
    "Base.copy(s::Adam) = Adam(s.α,s.γv,s.γs,s.ϵ,s.k,s.v,s.s) \n",
    "\n",
    "function init!(M::Adam, f, ∇f, x, alph)\n",
    "    M.k = 0\n",
    "    M.v = zeros(length(x))\n",
    "    M.s = zeros(length(x))\n",
    "    return M\n",
    "end\n",
    "\n",
    "function step!(M::Adam, f, ∇f,pos,uv_ij)\n",
    "    α, γv, γs, ϵ, k = M.α, M.γv, M.γs, M.ϵ, M.k\n",
    "    s, v, g = M.s, M.v, ∇f(pos)\n",
    "    v[:] = γv*v + (1-γv)*g\n",
    "    s[:] = γs*s + (1-γs)*g.*g\n",
    "    M.k = k += 1\n",
    "    v_hat = v ./ (1 - γv^k)\n",
    "    s_hat = s ./ (1 - γs^k)\n",
    "    return uv_ij - α*v_hat ./ (sqrt.(s_hat) .+ ϵ)\n",
    "end\n",
    "grad = conj_grad_func(u,v,alph,uO,gamma,epsilon,gradient_F_MSAT);\n",
    "alpha = 0.08\n",
    "yv = 0.9\n",
    "ys = 0.999\n",
    "eps = 10^(-8)\n",
    "a = Adam(alpha,yv,ys,eps,0,Gray.(zeros(1,2)),Gray.(zeros(1,2)))"
   ]
  },
  {
   "cell_type": "code",
   "execution_count": null,
   "id": "37f90430",
   "metadata": {},
   "outputs": [],
   "source": [
    "@time begin\n",
    "    threshold = 0.001;\n",
    "    cur_error = threshold + 1;\n",
    "    max_iterations = 100;\n",
    "    curIter = 0;\n",
    "    while(curIter < max_iterations && cur_error > threshold)\n",
    "        for i = 3:m-2\n",
    "            for j = 3:n-2\n",
    "                pos = [i,j];\n",
    "                uv_ij = zeros(1,2);\n",
    "                uv_ij[1,1] = u[i,j];\n",
    "                uv_ij[1,2] = v[i,j];\n",
    "                updatedValue = step!(a, nothing, grad,pos, Gray.(uv_ij));\n",
    "                u[i,j] = updatedValue[1];\n",
    "                v[i,j] = updatedValue[2];\n",
    "            end;\n",
    "        end;\n",
    "        cur_error = norm(u-uO);\n",
    "        curIter += 1\n",
    "        print(curIter,\"\\n\");\n",
    "    end;\n",
    "end"
   ]
  },
  {
   "cell_type": "code",
   "execution_count": null,
   "id": "36800317",
   "metadata": {},
   "outputs": [],
   "source": [
    "print(cur_error)"
   ]
  },
  {
   "cell_type": "code",
   "execution_count": null,
   "id": "806fae34",
   "metadata": {},
   "outputs": [],
   "source": [
    "typeof(Gray.(zeros(1,2)))"
   ]
  },
  {
   "cell_type": "code",
   "execution_count": null,
   "id": "3a8ea942",
   "metadata": {},
   "outputs": [],
   "source": [
    "imshow(u)"
   ]
  },
  {
   "cell_type": "code",
   "execution_count": null,
   "id": "a8868c48",
   "metadata": {},
   "outputs": [],
   "source": [
    "imshow(v)"
   ]
  },
  {
   "cell_type": "code",
   "execution_count": null,
   "id": "c5293567",
   "metadata": {},
   "outputs": [],
   "source": []
  }
 ],
 "metadata": {
  "kernelspec": {
   "display_name": "Julia 1.9.3",
   "language": "julia",
   "name": "julia-1.9"
  },
  "language_info": {
   "file_extension": ".jl",
   "mimetype": "application/julia",
   "name": "julia",
   "version": "1.9.3"
  }
 },
 "nbformat": 4,
 "nbformat_minor": 5
}
