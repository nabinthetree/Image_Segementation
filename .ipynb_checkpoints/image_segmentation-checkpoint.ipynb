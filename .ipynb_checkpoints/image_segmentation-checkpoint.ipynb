{
 "cells": [
  {
   "cell_type": "markdown",
   "id": "9b8cbdf0",
   "metadata": {},
   "source": [
    "### Image Segmentation Project 1\n",
    "###### The following program optimizes the ambrios functional using gradient descent method to use a gradieent descent method, the gradient of the functional needs"
   ]
  },
  {
   "cell_type": "code",
   "execution_count": 2,
   "id": "f31fa885",
   "metadata": {},
   "outputs": [],
   "source": [
    "using Images, FileIO\n",
    "using TestImages"
   ]
  },
  {
   "cell_type": "code",
   "execution_count": 3,
   "id": "65bd70e8",
   "metadata": {},
   "outputs": [],
   "source": [
    "# set the image to segment.\n",
    "img = testimage(\"lighthouse\");\n",
    "m = size(img)[1];\n",
    "n = size(img)[2];"
   ]
  },
  {
   "cell_type": "code",
   "execution_count": 5,
   "id": "69e049d1",
   "metadata": {},
   "outputs": [],
   "source": [
    "# the following is an implementation of the potential function\n",
    "# along with the function z wtih z being from 0 and 1\n",
    "\n",
    "epsilon = 0.02;\n",
    "beta = 0.02;\n",
    "alpha = 0.02;\n",
    "\n",
    "function setUp_grad_z(m,n)\n",
    "    function grad_z(x)\n",
    "        return (2 / (2*m+n))^2 + (1 / (2*m+n)^2)\n",
    "    end;\n",
    "    return grad_z\n",
    "end;\n",
    "\n",
    "function setUp_z(m,n)\n",
    "    function z(x)\n",
    "        return (2*x[1] + x[2])/(2*m+n);\n",
    "    end;\n",
    "    return z;\n",
    "end;\n",
    "\n",
    "function phi(z)\n",
    "    \n",
    "    return z^4 - 2*z^3 + z^2\n",
    "end;\n",
    "grad_z = setUp_grad_z(m,n);\n",
    "z = setUp_z(m,n);\n",
    "phi_squared = x -> phi(z(x));"
   ]
  },
  {
   "cell_type": "code",
   "execution_count": null,
   "id": "99e8262b",
   "metadata": {},
   "outputs": [],
   "source": []
  }
 ],
 "metadata": {
  "kernelspec": {
   "display_name": "Julia 1.9.3",
   "language": "julia",
   "name": "julia-1.9"
  },
  "language_info": {
   "file_extension": ".jl",
   "mimetype": "application/julia",
   "name": "julia",
   "version": "1.9.3"
  }
 },
 "nbformat": 4,
 "nbformat_minor": 5
}
